{
 "cells": [
  {
   "cell_type": "code",
   "execution_count": 1,
   "id": "eaff5748",
   "metadata": {},
   "outputs": [
    {
     "data": {
      "application/javascript": [
       "IPython.notebook.set_autosave_interval(0)"
      ]
     },
     "metadata": {},
     "output_type": "display_data"
    },
    {
     "name": "stdout",
     "output_type": "stream",
     "text": [
      "Autosave disabled\n"
     ]
    }
   ],
   "source": [
    "%autosave 0"
   ]
  },
  {
   "cell_type": "code",
   "execution_count": 2,
   "id": "ebbbe08f",
   "metadata": {},
   "outputs": [],
   "source": [
    "import numpy as np\n",
    "import pandas as pd\n",
    "from sqlalchemy import text, create_engine\n",
    "from pydataset import data\n",
    "\n",
    "from env import get_connection"
   ]
  },
  {
   "cell_type": "markdown",
   "id": "57f65ead",
   "metadata": {},
   "source": [
    "Let's read in the users and roles tables from the join_example_db."
   ]
  },
  {
   "cell_type": "code",
   "execution_count": 3,
   "id": "e6f6c080",
   "metadata": {},
   "outputs": [],
   "source": [
    "engine = create_engine(get_connection('join_example_db'))"
   ]
  },
  {
   "cell_type": "code",
   "execution_count": 4,
   "id": "abea61ed",
   "metadata": {},
   "outputs": [],
   "source": [
    "users_query = '''\n",
    "              SELECT *\n",
    "              FROM users\n",
    "              '''\n",
    "\n",
    "roles_query = '''\n",
    "              SELECT *\n",
    "              FROM roles\n",
    "              '''"
   ]
  },
  {
   "cell_type": "code",
   "execution_count": 5,
   "id": "a0f8863c",
   "metadata": {},
   "outputs": [],
   "source": [
    "users = pd.read_sql(text(users_query), engine.connect())\n",
    "roles = pd.read_sql(text(roles_query), engine.connect())"
   ]
  },
  {
   "cell_type": "markdown",
   "id": "7cfe42d6",
   "metadata": {},
   "source": [
    "Let's try joining our two dataframes together with pd.concat()!"
   ]
  },
  {
   "cell_type": "code",
   "execution_count": null,
   "id": "b811554f",
   "metadata": {},
   "outputs": [],
   "source": []
  },
  {
   "cell_type": "markdown",
   "id": "ad171c26",
   "metadata": {},
   "source": [
    "Ok, now how about calling the .merge() method off one of our tables!"
   ]
  },
  {
   "cell_type": "code",
   "execution_count": null,
   "id": "bebb6781",
   "metadata": {},
   "outputs": [],
   "source": []
  },
  {
   "cell_type": "markdown",
   "id": "737bbb45",
   "metadata": {},
   "source": [
    "Let's read in the mpg dataset and create a new binary column for automatic/manual transmission."
   ]
  },
  {
   "cell_type": "code",
   "execution_count": 6,
   "id": "79616d2c",
   "metadata": {},
   "outputs": [
    {
     "data": {
      "text/html": [
       "<div>\n",
       "<style scoped>\n",
       "    .dataframe tbody tr th:only-of-type {\n",
       "        vertical-align: middle;\n",
       "    }\n",
       "\n",
       "    .dataframe tbody tr th {\n",
       "        vertical-align: top;\n",
       "    }\n",
       "\n",
       "    .dataframe thead th {\n",
       "        text-align: right;\n",
       "    }\n",
       "</style>\n",
       "<table border=\"1\" class=\"dataframe\">\n",
       "  <thead>\n",
       "    <tr style=\"text-align: right;\">\n",
       "      <th></th>\n",
       "      <th>manufacturer</th>\n",
       "      <th>model</th>\n",
       "      <th>displ</th>\n",
       "      <th>year</th>\n",
       "      <th>cyl</th>\n",
       "      <th>trans</th>\n",
       "      <th>drv</th>\n",
       "      <th>cty</th>\n",
       "      <th>hwy</th>\n",
       "      <th>fl</th>\n",
       "      <th>class</th>\n",
       "      <th>auto_or_man</th>\n",
       "    </tr>\n",
       "  </thead>\n",
       "  <tbody>\n",
       "    <tr>\n",
       "      <th>1</th>\n",
       "      <td>audi</td>\n",
       "      <td>a4</td>\n",
       "      <td>1.8</td>\n",
       "      <td>1999</td>\n",
       "      <td>4</td>\n",
       "      <td>auto(l5)</td>\n",
       "      <td>f</td>\n",
       "      <td>18</td>\n",
       "      <td>29</td>\n",
       "      <td>p</td>\n",
       "      <td>compact</td>\n",
       "      <td>auto</td>\n",
       "    </tr>\n",
       "    <tr>\n",
       "      <th>2</th>\n",
       "      <td>audi</td>\n",
       "      <td>a4</td>\n",
       "      <td>1.8</td>\n",
       "      <td>1999</td>\n",
       "      <td>4</td>\n",
       "      <td>manual(m5)</td>\n",
       "      <td>f</td>\n",
       "      <td>21</td>\n",
       "      <td>29</td>\n",
       "      <td>p</td>\n",
       "      <td>compact</td>\n",
       "      <td>manual</td>\n",
       "    </tr>\n",
       "    <tr>\n",
       "      <th>3</th>\n",
       "      <td>audi</td>\n",
       "      <td>a4</td>\n",
       "      <td>2.0</td>\n",
       "      <td>2008</td>\n",
       "      <td>4</td>\n",
       "      <td>manual(m6)</td>\n",
       "      <td>f</td>\n",
       "      <td>20</td>\n",
       "      <td>31</td>\n",
       "      <td>p</td>\n",
       "      <td>compact</td>\n",
       "      <td>manual</td>\n",
       "    </tr>\n",
       "    <tr>\n",
       "      <th>4</th>\n",
       "      <td>audi</td>\n",
       "      <td>a4</td>\n",
       "      <td>2.0</td>\n",
       "      <td>2008</td>\n",
       "      <td>4</td>\n",
       "      <td>auto(av)</td>\n",
       "      <td>f</td>\n",
       "      <td>21</td>\n",
       "      <td>30</td>\n",
       "      <td>p</td>\n",
       "      <td>compact</td>\n",
       "      <td>auto</td>\n",
       "    </tr>\n",
       "    <tr>\n",
       "      <th>5</th>\n",
       "      <td>audi</td>\n",
       "      <td>a4</td>\n",
       "      <td>2.8</td>\n",
       "      <td>1999</td>\n",
       "      <td>6</td>\n",
       "      <td>auto(l5)</td>\n",
       "      <td>f</td>\n",
       "      <td>16</td>\n",
       "      <td>26</td>\n",
       "      <td>p</td>\n",
       "      <td>compact</td>\n",
       "      <td>auto</td>\n",
       "    </tr>\n",
       "  </tbody>\n",
       "</table>\n",
       "</div>"
      ],
      "text/plain": [
       "  manufacturer model  displ  year  cyl       trans drv  cty  hwy fl    class  \\\n",
       "1         audi    a4    1.8  1999    4    auto(l5)   f   18   29  p  compact   \n",
       "2         audi    a4    1.8  1999    4  manual(m5)   f   21   29  p  compact   \n",
       "3         audi    a4    2.0  2008    4  manual(m6)   f   20   31  p  compact   \n",
       "4         audi    a4    2.0  2008    4    auto(av)   f   21   30  p  compact   \n",
       "5         audi    a4    2.8  1999    6    auto(l5)   f   16   26  p  compact   \n",
       "\n",
       "  auto_or_man  \n",
       "1        auto  \n",
       "2      manual  \n",
       "3      manual  \n",
       "4        auto  \n",
       "5        auto  "
      ]
     },
     "execution_count": 6,
     "metadata": {},
     "output_type": "execute_result"
    }
   ],
   "source": [
    "mpg = data('mpg')\n",
    "mpg['auto_or_man'] = np.where(mpg['trans'].str.startswith('a'), 'auto', 'manual')\n",
    "mpg.head()"
   ]
  },
  {
   "cell_type": "markdown",
   "id": "6828f385",
   "metadata": {},
   "source": [
    "Let's do a crosstab of two categorical variables, the drive type and the transmission type."
   ]
  },
  {
   "cell_type": "code",
   "execution_count": null,
   "id": "12f0cbec",
   "metadata": {},
   "outputs": [],
   "source": []
  },
  {
   "cell_type": "markdown",
   "id": "37deedc4",
   "metadata": {},
   "source": [
    "We can set normalize equal to True, to return the proportion of all cars each combination represents."
   ]
  },
  {
   "cell_type": "code",
   "execution_count": null,
   "id": "995171b5",
   "metadata": {},
   "outputs": [],
   "source": []
  },
  {
   "cell_type": "markdown",
   "id": "e2c77fd8",
   "metadata": {},
   "source": [
    "A pivot table will look similar to a crosstab.\n",
    "\n",
    "We specify which two categorical variables will be along the axes.\n",
    "\n",
    "The index argument specifies the index and the columns argument specifies the column.\n",
    "\n",
    "We will pass in a third argument, values, to return the mean of that column.\n",
    "\n",
    "If we don't want the mean, we can specify a fourth argument (aggfunc) for a different aggregate function."
   ]
  },
  {
   "cell_type": "code",
   "execution_count": null,
   "id": "4677ef7e",
   "metadata": {},
   "outputs": [],
   "source": []
  },
  {
   "cell_type": "markdown",
   "id": "b00cb081",
   "metadata": {},
   "source": [
    "The map method will use a dictionary to map existing values to desired ones."
   ]
  },
  {
   "cell_type": "code",
   "execution_count": 7,
   "id": "0442cb25",
   "metadata": {},
   "outputs": [],
   "source": [
    "drv_dict = {'4': 'four-wheel drive',\n",
    "            'f': 'front-wheel drive',\n",
    "            'r': 'rear-wheel drive'}"
   ]
  },
  {
   "cell_type": "markdown",
   "id": "0b7d312f",
   "metadata": {},
   "source": [
    "We can transpose dataframes by saying .T."
   ]
  },
  {
   "cell_type": "code",
   "execution_count": null,
   "id": "31df3e38",
   "metadata": {},
   "outputs": [],
   "source": []
  }
 ],
 "metadata": {
  "kernelspec": {
   "display_name": "Python 3 (ipykernel)",
   "language": "python",
   "name": "python3"
  },
  "language_info": {
   "codemirror_mode": {
    "name": "ipython",
    "version": 3
   },
   "file_extension": ".py",
   "mimetype": "text/x-python",
   "name": "python",
   "nbconvert_exporter": "python",
   "pygments_lexer": "ipython3",
   "version": "3.9.12"
  }
 },
 "nbformat": 4,
 "nbformat_minor": 5
}
