{
 "cells": [
  {
   "cell_type": "code",
   "execution_count": 1,
   "id": "30942559",
   "metadata": {},
   "outputs": [
    {
     "data": {
      "application/javascript": [
       "IPython.notebook.set_autosave_interval(0)"
      ]
     },
     "metadata": {},
     "output_type": "display_data"
    },
    {
     "name": "stdout",
     "output_type": "stream",
     "text": [
      "Autosave disabled\n"
     ]
    }
   ],
   "source": [
    "%autosave 0"
   ]
  },
  {
   "cell_type": "code",
   "execution_count": 2,
   "id": "2ae3e232",
   "metadata": {},
   "outputs": [],
   "source": [
    "import numpy as np\n",
    "import pandas as pd\n",
    "from pydataset import data\n",
    "\n",
    "import matplotlib.pyplot as plt"
   ]
  },
  {
   "cell_type": "markdown",
   "id": "0d6dffc9",
   "metadata": {},
   "source": [
    "Let's have some fun plotting the sleepstudy data from pydataset."
   ]
  },
  {
   "cell_type": "code",
   "execution_count": 3,
   "id": "bf12f7dc",
   "metadata": {},
   "outputs": [
    {
     "data": {
      "text/html": [
       "<div>\n",
       "<style scoped>\n",
       "    .dataframe tbody tr th:only-of-type {\n",
       "        vertical-align: middle;\n",
       "    }\n",
       "\n",
       "    .dataframe tbody tr th {\n",
       "        vertical-align: top;\n",
       "    }\n",
       "\n",
       "    .dataframe thead th {\n",
       "        text-align: right;\n",
       "    }\n",
       "</style>\n",
       "<table border=\"1\" class=\"dataframe\">\n",
       "  <thead>\n",
       "    <tr style=\"text-align: right;\">\n",
       "      <th></th>\n",
       "      <th>Reaction</th>\n",
       "      <th>Days</th>\n",
       "      <th>Subject</th>\n",
       "    </tr>\n",
       "  </thead>\n",
       "  <tbody>\n",
       "    <tr>\n",
       "      <th>1</th>\n",
       "      <td>249.5600</td>\n",
       "      <td>0</td>\n",
       "      <td>308</td>\n",
       "    </tr>\n",
       "    <tr>\n",
       "      <th>2</th>\n",
       "      <td>258.7047</td>\n",
       "      <td>1</td>\n",
       "      <td>308</td>\n",
       "    </tr>\n",
       "    <tr>\n",
       "      <th>3</th>\n",
       "      <td>250.8006</td>\n",
       "      <td>2</td>\n",
       "      <td>308</td>\n",
       "    </tr>\n",
       "    <tr>\n",
       "      <th>4</th>\n",
       "      <td>321.4398</td>\n",
       "      <td>3</td>\n",
       "      <td>308</td>\n",
       "    </tr>\n",
       "    <tr>\n",
       "      <th>5</th>\n",
       "      <td>356.8519</td>\n",
       "      <td>4</td>\n",
       "      <td>308</td>\n",
       "    </tr>\n",
       "  </tbody>\n",
       "</table>\n",
       "</div>"
      ],
      "text/plain": [
       "   Reaction  Days  Subject\n",
       "1  249.5600     0      308\n",
       "2  258.7047     1      308\n",
       "3  250.8006     2      308\n",
       "4  321.4398     3      308\n",
       "5  356.8519     4      308"
      ]
     },
     "execution_count": 3,
     "metadata": {},
     "output_type": "execute_result"
    }
   ],
   "source": [
    "ss = data('sleepstudy')\n",
    "ss.head()"
   ]
  },
  {
   "cell_type": "markdown",
   "id": "600d71c4",
   "metadata": {},
   "source": [
    "The column names are capitalized. This isn't very pythonic! I need to change this."
   ]
  },
  {
   "cell_type": "code",
   "execution_count": 4,
   "id": "f8094861",
   "metadata": {},
   "outputs": [
    {
     "data": {
      "text/html": [
       "<div>\n",
       "<style scoped>\n",
       "    .dataframe tbody tr th:only-of-type {\n",
       "        vertical-align: middle;\n",
       "    }\n",
       "\n",
       "    .dataframe tbody tr th {\n",
       "        vertical-align: top;\n",
       "    }\n",
       "\n",
       "    .dataframe thead th {\n",
       "        text-align: right;\n",
       "    }\n",
       "</style>\n",
       "<table border=\"1\" class=\"dataframe\">\n",
       "  <thead>\n",
       "    <tr style=\"text-align: right;\">\n",
       "      <th></th>\n",
       "      <th>reaction</th>\n",
       "      <th>days</th>\n",
       "      <th>subject</th>\n",
       "    </tr>\n",
       "  </thead>\n",
       "  <tbody>\n",
       "    <tr>\n",
       "      <th>1</th>\n",
       "      <td>249.5600</td>\n",
       "      <td>0</td>\n",
       "      <td>308</td>\n",
       "    </tr>\n",
       "    <tr>\n",
       "      <th>2</th>\n",
       "      <td>258.7047</td>\n",
       "      <td>1</td>\n",
       "      <td>308</td>\n",
       "    </tr>\n",
       "    <tr>\n",
       "      <th>3</th>\n",
       "      <td>250.8006</td>\n",
       "      <td>2</td>\n",
       "      <td>308</td>\n",
       "    </tr>\n",
       "    <tr>\n",
       "      <th>4</th>\n",
       "      <td>321.4398</td>\n",
       "      <td>3</td>\n",
       "      <td>308</td>\n",
       "    </tr>\n",
       "    <tr>\n",
       "      <th>5</th>\n",
       "      <td>356.8519</td>\n",
       "      <td>4</td>\n",
       "      <td>308</td>\n",
       "    </tr>\n",
       "  </tbody>\n",
       "</table>\n",
       "</div>"
      ],
      "text/plain": [
       "   reaction  days  subject\n",
       "1  249.5600     0      308\n",
       "2  258.7047     1      308\n",
       "3  250.8006     2      308\n",
       "4  321.4398     3      308\n",
       "5  356.8519     4      308"
      ]
     },
     "execution_count": 4,
     "metadata": {},
     "output_type": "execute_result"
    }
   ],
   "source": [
    "ss.columns = [col.lower() for col in ss.columns]\n",
    "ss.head()"
   ]
  },
  {
   "cell_type": "markdown",
   "id": "c5b12406",
   "metadata": {},
   "source": [
    "If we call plt.plot(), it will default to a line chart.\n",
    "\n",
    "Let's look at a line chart for one subject!\n",
    "\n",
    "When we pass just one argument, matplotlib will assume we are passing the y-values.\n",
    "\n",
    "We can also explicitly pass the x-values."
   ]
  },
  {
   "cell_type": "code",
   "execution_count": 5,
   "id": "1a294cfc",
   "metadata": {},
   "outputs": [],
   "source": [
    "ss_one = ss[ss.subject == 308]"
   ]
  },
  {
   "cell_type": "code",
   "execution_count": null,
   "id": "5b9cf75b",
   "metadata": {},
   "outputs": [],
   "source": []
  },
  {
   "cell_type": "markdown",
   "id": "23be7c0d",
   "metadata": {},
   "source": [
    "Matplotlib does its best to choose appropriate limits for the axes.\n",
    "\n",
    "We can set specific limits with plt.xlim() and plt.ylim()."
   ]
  },
  {
   "cell_type": "code",
   "execution_count": null,
   "id": "6d10c06c",
   "metadata": {},
   "outputs": [],
   "source": []
  },
  {
   "cell_type": "markdown",
   "id": "fbbe5d59",
   "metadata": {},
   "source": [
    "We can plot multiple lines on the same plot.\n",
    "\n",
    "We do this by calling the plot function multiple times in the same code cell.\n",
    "\n",
    "With overlapping lines, it can be useful to distinguish them by changing features like the color.\n",
    "\n",
    "We change color with the c argument. We can also adjust linewidth and opacity."
   ]
  },
  {
   "cell_type": "code",
   "execution_count": null,
   "id": "4b33952d",
   "metadata": {},
   "outputs": [],
   "source": []
  },
  {
   "cell_type": "markdown",
   "id": "fff0f9d2",
   "metadata": {},
   "source": [
    "Let's also differentiate our lines by adding labels.\n",
    "\n",
    "We can show the labels by calling plt.legend().\n",
    "\n",
    "The legend function accepts the loc argument, to specify where the legend should be!"
   ]
  },
  {
   "cell_type": "code",
   "execution_count": null,
   "id": "5468c06d",
   "metadata": {},
   "outputs": [],
   "source": []
  },
  {
   "cell_type": "markdown",
   "id": "d046642a",
   "metadata": {},
   "source": [
    "We can make scatter plots, using plt.scatter()!\n",
    "\n",
    "Many previous arguments will work with these plots, as well as the s argument for size of dots."
   ]
  },
  {
   "cell_type": "code",
   "execution_count": null,
   "id": "d2b80087",
   "metadata": {},
   "outputs": [],
   "source": []
  },
  {
   "cell_type": "markdown",
   "id": "df52a508",
   "metadata": {},
   "source": [
    "We should have a more professional-looking plot.\n",
    "\n",
    "Let's add a title and label our axes!\n",
    "\n",
    "We will expect these components for any FINAL figure!"
   ]
  },
  {
   "cell_type": "code",
   "execution_count": null,
   "id": "fdd5f7b4",
   "metadata": {},
   "outputs": [],
   "source": []
  },
  {
   "cell_type": "markdown",
   "id": "37a001e4",
   "metadata": {},
   "source": [
    "We can customize..\n",
    "- Tick marks on axes with plt.xticks() and plt.yticks()\n",
    "- Line types with the ls argument\n",
    "- The rotation of axis values"
   ]
  },
  {
   "cell_type": "code",
   "execution_count": null,
   "id": "39805484",
   "metadata": {},
   "outputs": [],
   "source": []
  },
  {
   "cell_type": "markdown",
   "id": "2f0b9c9d",
   "metadata": {},
   "source": [
    "We can add text to a plot with plt.text().\n",
    "\n",
    "It will require many arguments..\n",
    "- The x and y coordinates for the beginning of the text\n",
    "- The text itself\n",
    "- The fontsize and color of the text"
   ]
  },
  {
   "cell_type": "code",
   "execution_count": null,
   "id": "b15325f6",
   "metadata": {},
   "outputs": [],
   "source": []
  },
  {
   "cell_type": "markdown",
   "id": "97fb7453",
   "metadata": {},
   "source": [
    "You can change the figure size!\n",
    "\n",
    "Call plt.figure, and pass a tuple for the figsize argument.\n",
    "\n",
    "Kind of silly now, but about to be useful.."
   ]
  },
  {
   "cell_type": "code",
   "execution_count": null,
   "id": "7d8af4a8",
   "metadata": {},
   "outputs": [],
   "source": []
  },
  {
   "cell_type": "markdown",
   "id": "e2eea51e",
   "metadata": {},
   "source": [
    "Let's allow for a larger figure, and populate it with subplots!\n",
    "\n",
    "The function plt.subplot() will accept the number of rows and columns for the subplot, and which plot it is.\n",
    "\n",
    "We can title the individual plots."
   ]
  },
  {
   "cell_type": "code",
   "execution_count": null,
   "id": "23d7e8ad",
   "metadata": {},
   "outputs": [],
   "source": []
  },
  {
   "cell_type": "markdown",
   "id": "10db7215",
   "metadata": {},
   "source": [
    "We can create histograms with plt.hist()!"
   ]
  },
  {
   "cell_type": "code",
   "execution_count": null,
   "id": "425d01ee",
   "metadata": {},
   "outputs": [],
   "source": []
  }
 ],
 "metadata": {
  "kernelspec": {
   "display_name": "Python 3 (ipykernel)",
   "language": "python",
   "name": "python3"
  },
  "language_info": {
   "codemirror_mode": {
    "name": "ipython",
    "version": 3
   },
   "file_extension": ".py",
   "mimetype": "text/x-python",
   "name": "python",
   "nbconvert_exporter": "python",
   "pygments_lexer": "ipython3",
   "version": "3.9.12"
  }
 },
 "nbformat": 4,
 "nbformat_minor": 5
}
