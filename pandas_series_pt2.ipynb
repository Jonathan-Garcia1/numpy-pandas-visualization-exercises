{
 "cells": [
  {
   "cell_type": "code",
   "execution_count": 1,
   "id": "f977ec10",
   "metadata": {},
   "outputs": [
    {
     "data": {
      "application/javascript": [
       "IPython.notebook.set_autosave_interval(0)"
      ]
     },
     "metadata": {},
     "output_type": "display_data"
    },
    {
     "name": "stdout",
     "output_type": "stream",
     "text": [
      "Autosave disabled\n"
     ]
    }
   ],
   "source": [
    "%autosave 0"
   ]
  },
  {
   "cell_type": "code",
   "execution_count": 2,
   "id": "bba8c6de",
   "metadata": {},
   "outputs": [],
   "source": [
    "import pandas as pd"
   ]
  },
  {
   "cell_type": "markdown",
   "id": "02e2a99e",
   "metadata": {},
   "source": [
    "Boolean masking -  \n",
    "We can use an array of boolean values to return a subset of our series.  \n",
    "We only get back values where the boolean array is True.  \n",
    "We can evaluate multiple statements at once."
   ]
  },
  {
   "cell_type": "code",
   "execution_count": null,
   "id": "7692b8d6",
   "metadata": {},
   "outputs": [],
   "source": []
  },
  {
   "cell_type": "markdown",
   "id": "b42a782d",
   "metadata": {},
   "source": [
    "The curriculum has a method for determining which values belong in the fourth quartile.  \n",
    "\n",
    "We could also do it with [pd.qcut](https://pandas.pydata.org/docs/reference/api/pandas.qcut.html#pandas.qcut).  \n",
    "\n",
    "We will pass two arguments: the pandas series, and the number of bins we want (4 for quartiles)."
   ]
  },
  {
   "cell_type": "code",
   "execution_count": null,
   "id": "7b5415ed",
   "metadata": {},
   "outputs": [],
   "source": []
  },
  {
   "cell_type": "markdown",
   "id": "9e80f980",
   "metadata": {},
   "source": [
    "String vectorization.\n",
    "\n",
    "We can perform string operations across all values in a series using the .str attribute."
   ]
  },
  {
   "cell_type": "code",
   "execution_count": null,
   "id": "2ef41d38",
   "metadata": {},
   "outputs": [],
   "source": []
  },
  {
   "cell_type": "markdown",
   "id": "eb03f045",
   "metadata": {},
   "source": [
    "There are other methods available for use! Some common ones include..\n",
    "- .any() and .all()\n",
    "- .isin()\n",
    "- .apply()"
   ]
  },
  {
   "cell_type": "code",
   "execution_count": null,
   "id": "0b112a64",
   "metadata": {},
   "outputs": [],
   "source": []
  },
  {
   "cell_type": "markdown",
   "id": "7484ad10",
   "metadata": {},
   "source": [
    "We can bin values using pd.cut.\n",
    "\n",
    "We can specify the number of bins to create, to make n bins of equal size.\n",
    "\n",
    "We can also create the cutoffs for the bins ourselves."
   ]
  },
  {
   "cell_type": "code",
   "execution_count": null,
   "id": "0578b6ad",
   "metadata": {},
   "outputs": [],
   "source": []
  },
  {
   "cell_type": "markdown",
   "id": "e0e9a298",
   "metadata": {},
   "source": [
    "We can plot values from a series using the .plot() method.\n",
    "\n",
    "We can further alter the plot by calling .plot.hist(), for example.\n",
    "\n",
    "We can modify our plot by passing in arguments to the plotting method."
   ]
  },
  {
   "cell_type": "code",
   "execution_count": null,
   "id": "9512301b",
   "metadata": {},
   "outputs": [],
   "source": []
  }
 ],
 "metadata": {
  "kernelspec": {
   "display_name": "Python 3 (ipykernel)",
   "language": "python",
   "name": "python3"
  },
  "language_info": {
   "codemirror_mode": {
    "name": "ipython",
    "version": 3
   },
   "file_extension": ".py",
   "mimetype": "text/x-python",
   "name": "python",
   "nbconvert_exporter": "python",
   "pygments_lexer": "ipython3",
   "version": "3.9.12"
  }
 },
 "nbformat": 4,
 "nbformat_minor": 5
}
