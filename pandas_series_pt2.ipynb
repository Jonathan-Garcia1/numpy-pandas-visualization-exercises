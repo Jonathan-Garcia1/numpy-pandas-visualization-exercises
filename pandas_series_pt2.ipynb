{
 "cells": [
  {
   "cell_type": "code",
   "execution_count": 1,
   "id": "f977ec10",
   "metadata": {},
   "outputs": [
    {
     "data": {
      "application/javascript": "IPython.notebook.set_autosave_interval(0)"
     },
     "metadata": {},
     "output_type": "display_data"
    },
    {
     "name": "stdout",
     "output_type": "stream",
     "text": [
      "Autosave disabled\n"
     ]
    }
   ],
   "source": [
    "%autosave 0"
   ]
  },
  {
   "cell_type": "code",
   "execution_count": 2,
   "id": "bba8c6de",
   "metadata": {},
   "outputs": [],
   "source": [
    "import pandas as pd\n",
    "from pydataset import data"
   ]
  },
  {
   "attachments": {},
   "cell_type": "markdown",
   "id": "02e2a99e",
   "metadata": {},
   "source": [
    "Boolean masking -  \n",
    "We can use an array of boolean values to return a subset of our series.  \n",
    "We only get back values where the boolean array is True.  \n",
    "We can evaluate multiple statements at once."
   ]
  },
  {
   "cell_type": "code",
   "execution_count": 3,
   "id": "7692b8d6",
   "metadata": {},
   "outputs": [],
   "source": [
    "my_series = pd.Series(range(1,21,1))"
   ]
  },
  {
   "cell_type": "code",
   "execution_count": 6,
   "id": "7b5415ed",
   "metadata": {},
   "outputs": [
    {
     "data": {
      "text/plain": [
       "0     False\n",
       "1     False\n",
       "2     False\n",
       "3     False\n",
       "4     False\n",
       "5     False\n",
       "6     False\n",
       "7     False\n",
       "8     False\n",
       "9     False\n",
       "10     True\n",
       "11     True\n",
       "12     True\n",
       "13     True\n",
       "14     True\n",
       "15     True\n",
       "16     True\n",
       "17     True\n",
       "18     True\n",
       "19     True\n",
       "dtype: bool"
      ]
     },
     "execution_count": 6,
     "metadata": {},
     "output_type": "execute_result"
    }
   ],
   "source": [
    "my_series > 10"
   ]
  },
  {
   "cell_type": "code",
   "execution_count": 7,
   "id": "42321b94",
   "metadata": {},
   "outputs": [
    {
     "data": {
      "text/plain": [
       "10    11\n",
       "11    12\n",
       "12    13\n",
       "13    14\n",
       "14    15\n",
       "15    16\n",
       "16    17\n",
       "17    18\n",
       "18    19\n",
       "19    20\n",
       "dtype: int64"
      ]
     },
     "execution_count": 7,
     "metadata": {},
     "output_type": "execute_result"
    }
   ],
   "source": [
    "my_series[my_series > 10]"
   ]
  },
  {
   "cell_type": "code",
   "execution_count": 9,
   "id": "2ef41d38",
   "metadata": {},
   "outputs": [
    {
     "data": {
      "text/plain": [
       "0      1\n",
       "2      3\n",
       "4      5\n",
       "6      7\n",
       "8      9\n",
       "10    11\n",
       "12    13\n",
       "14    15\n",
       "16    17\n",
       "18    19\n",
       "dtype: int64"
      ]
     },
     "execution_count": 9,
     "metadata": {},
     "output_type": "execute_result"
    }
   ],
   "source": [
    "my_series[my_series % 2 == 1]"
   ]
  },
  {
   "cell_type": "code",
   "execution_count": 4,
   "id": "b8885151",
   "metadata": {},
   "outputs": [
    {
     "data": {
      "text/plain": [
       "0      1\n",
       "2      3\n",
       "4      5\n",
       "6      7\n",
       "8      9\n",
       "10    11\n",
       "11    12\n",
       "12    13\n",
       "13    14\n",
       "14    15\n",
       "15    16\n",
       "16    17\n",
       "17    18\n",
       "18    19\n",
       "19    20\n",
       "dtype: int64"
      ]
     },
     "execution_count": 4,
     "metadata": {},
     "output_type": "execute_result"
    }
   ],
   "source": [
    "my_series[(my_series > 10) & (my_series % 2 == 1)]\n",
    "my_series[(my_series > 10) | (my_series % 2 == 1)]"
   ]
  },
  {
   "attachments": {},
   "cell_type": "markdown",
   "id": "b42a782d",
   "metadata": {},
   "source": [
    "The curriculum has a method for determining which values belong in the fourth quartile.  \n",
    "\n",
    "We could also do it with [pd.qcut](https://pandas.pydata.org/docs/reference/api/pandas.qcut.html#pandas.qcut).  \n",
    "\n",
    "We will pass two arguments: the pandas series, and the number of bins we want (4 for quartiles)."
   ]
  },
  {
   "cell_type": "code",
   "execution_count": 15,
   "id": "54adf681",
   "metadata": {},
   "outputs": [
    {
     "data": {
      "text/plain": [
       "0     q1\n",
       "1     q1\n",
       "2     q1\n",
       "3     q1\n",
       "4     q1\n",
       "5     q2\n",
       "6     q2\n",
       "7     q2\n",
       "8     q2\n",
       "9     q2\n",
       "10    q3\n",
       "11    q3\n",
       "12    q3\n",
       "13    q3\n",
       "14    q3\n",
       "15    q4\n",
       "16    q4\n",
       "17    q4\n",
       "18    q4\n",
       "19    q4\n",
       "dtype: category\n",
       "Categories (4, object): ['q1' < 'q2' < 'q3' < 'q4']"
      ]
     },
     "execution_count": 15,
     "metadata": {},
     "output_type": "execute_result"
    }
   ],
   "source": [
    "pd.qcut(my_series, 4, labels=['q1', 'q2', 'q3', 'q4'])"
   ]
  },
  {
   "attachments": {},
   "cell_type": "markdown",
   "id": "9e80f980",
   "metadata": {},
   "source": [
    "String vectorization.\n",
    "\n",
    "We can perform string operations across all values in a series using the .str attribute."
   ]
  },
  {
   "cell_type": "code",
   "execution_count": 17,
   "id": "344361b3",
   "metadata": {},
   "outputs": [],
   "source": [
    "mpg = data('mpg')"
   ]
  },
  {
   "cell_type": "code",
   "execution_count": 18,
   "id": "c2f6212e",
   "metadata": {},
   "outputs": [],
   "source": [
    "mpg_t = mpg.trans"
   ]
  },
  {
   "cell_type": "code",
   "execution_count": 23,
   "id": "cd2430b8",
   "metadata": {},
   "outputs": [
    {
     "data": {
      "text/plain": [
       "1        AUTO(L5)\n",
       "2      MANUAL(M5)\n",
       "3      MANUAL(M6)\n",
       "4        AUTO(AV)\n",
       "5        AUTO(L5)\n",
       "          ...    \n",
       "230      AUTO(S6)\n",
       "231    MANUAL(M6)\n",
       "232      AUTO(L5)\n",
       "233    MANUAL(M5)\n",
       "234      AUTO(S6)\n",
       "Name: trans, Length: 234, dtype: object"
      ]
     },
     "execution_count": 23,
     "metadata": {},
     "output_type": "execute_result"
    }
   ],
   "source": [
    "mpg_t.str.upper()"
   ]
  },
  {
   "cell_type": "code",
   "execution_count": 26,
   "id": "079b92fe",
   "metadata": {},
   "outputs": [
    {
     "name": "stderr",
     "output_type": "stream",
     "text": [
      "/var/folders/6c/7ht5b3716k32pz2lmh_pzp8m0000gp/T/ipykernel_77822/2966449829.py:1: FutureWarning: The default value of regex will change from True to False in a future version. In addition, single character regular expressions will *not* be treated as literal strings when regex=True.\n",
      "  mpg_t.str.replace('(', '_').str.replace(')', '_')\n"
     ]
    },
    {
     "data": {
      "text/plain": [
       "1        auto_l5_\n",
       "2      manual_m5_\n",
       "3      manual_m6_\n",
       "4        auto_av_\n",
       "5        auto_l5_\n",
       "          ...    \n",
       "230      auto_s6_\n",
       "231    manual_m6_\n",
       "232      auto_l5_\n",
       "233    manual_m5_\n",
       "234      auto_s6_\n",
       "Name: trans, Length: 234, dtype: object"
      ]
     },
     "execution_count": 26,
     "metadata": {},
     "output_type": "execute_result"
    }
   ],
   "source": [
    "mpg_t.str.replace('(', '_').str.replace(')', '_')"
   ]
  },
  {
   "attachments": {},
   "cell_type": "markdown",
   "id": "eb03f045",
   "metadata": {},
   "source": [
    "There are other methods available for use! Some common ones include..\n",
    "- .any() and .all()\n",
    "- .isin()\n",
    "- .apply()"
   ]
  },
  {
   "cell_type": "code",
   "execution_count": 30,
   "id": "5fd39a9a",
   "metadata": {},
   "outputs": [
    {
     "data": {
      "text/plain": [
       "True"
      ]
     },
     "execution_count": 30,
     "metadata": {},
     "output_type": "execute_result"
    }
   ],
   "source": [
    "(mpg_t == 'auto(l5)').any()"
   ]
  },
  {
   "cell_type": "code",
   "execution_count": 31,
   "id": "3dd6cb33",
   "metadata": {},
   "outputs": [
    {
     "data": {
      "text/plain": [
       "False"
      ]
     },
     "execution_count": 31,
     "metadata": {},
     "output_type": "execute_result"
    }
   ],
   "source": [
    "(mpg_t == 'auto(l5)').all()"
   ]
  },
  {
   "cell_type": "code",
   "execution_count": 38,
   "id": "71abcba2",
   "metadata": {},
   "outputs": [
    {
     "data": {
      "text/plain": [
       "1       True\n",
       "2      False\n",
       "3      False\n",
       "4      False\n",
       "5       True\n",
       "       ...  \n",
       "230    False\n",
       "231    False\n",
       "232     True\n",
       "233    False\n",
       "234    False\n",
       "Name: trans, Length: 234, dtype: bool"
      ]
     },
     "execution_count": 38,
     "metadata": {},
     "output_type": "execute_result"
    }
   ],
   "source": [
    "mpg_t.isin(['auto(l5)'])"
   ]
  },
  {
   "cell_type": "code",
   "execution_count": 51,
   "id": "4e035cc8",
   "metadata": {},
   "outputs": [
    {
     "data": {
      "text/plain": [
       "1        auto(l5)\n",
       "2      manual(m5)\n",
       "3      manual(m6)\n",
       "4        auto(av)\n",
       "5        auto(l5)\n",
       "          ...    \n",
       "230      auto(s6)\n",
       "231    manual(m6)\n",
       "232      auto(l5)\n",
       "233    manual(m5)\n",
       "234      auto(s6)\n",
       "Name: trans, Length: 234, dtype: object"
      ]
     },
     "execution_count": 51,
     "metadata": {},
     "output_type": "execute_result"
    }
   ],
   "source": [
    "mpg_t"
   ]
  },
  {
   "cell_type": "code",
   "execution_count": 46,
   "id": "6f359b89",
   "metadata": {},
   "outputs": [],
   "source": [
    "def mathinator(n):\n",
    "    return n * 2 + 4 / 4"
   ]
  },
  {
   "cell_type": "code",
   "execution_count": 50,
   "id": "12d727bc",
   "metadata": {},
   "outputs": [
    {
     "data": {
      "text/plain": [
       "0      3.0\n",
       "1      5.0\n",
       "2      7.0\n",
       "3      9.0\n",
       "4     11.0\n",
       "5     13.0\n",
       "6     15.0\n",
       "7     17.0\n",
       "8     19.0\n",
       "9     21.0\n",
       "10    23.0\n",
       "11    25.0\n",
       "12    27.0\n",
       "13    29.0\n",
       "14    31.0\n",
       "15    33.0\n",
       "16    35.0\n",
       "17    37.0\n",
       "18    39.0\n",
       "19    41.0\n",
       "dtype: float64"
      ]
     },
     "execution_count": 50,
     "metadata": {},
     "output_type": "execute_result"
    }
   ],
   "source": [
    "my_series.apply(mathinator)"
   ]
  },
  {
   "attachments": {},
   "cell_type": "markdown",
   "id": "7484ad10",
   "metadata": {},
   "source": [
    "We can bin values using pd.cut.\n",
    "\n",
    "We can specify the number of bins to create, to make n bins of equal size.\n",
    "\n",
    "We can also create the cutoffs for the bins ourselves."
   ]
  },
  {
   "cell_type": "code",
   "execution_count": 52,
   "id": "0578b6ad",
   "metadata": {},
   "outputs": [
    {
     "data": {
      "text/plain": [
       "0     (0.981, 4.8]\n",
       "1     (0.981, 4.8]\n",
       "2     (0.981, 4.8]\n",
       "3     (0.981, 4.8]\n",
       "4       (4.8, 8.6]\n",
       "5       (4.8, 8.6]\n",
       "6       (4.8, 8.6]\n",
       "7       (4.8, 8.6]\n",
       "8      (8.6, 12.4]\n",
       "9      (8.6, 12.4]\n",
       "10     (8.6, 12.4]\n",
       "11     (8.6, 12.4]\n",
       "12    (12.4, 16.2]\n",
       "13    (12.4, 16.2]\n",
       "14    (12.4, 16.2]\n",
       "15    (12.4, 16.2]\n",
       "16    (16.2, 20.0]\n",
       "17    (16.2, 20.0]\n",
       "18    (16.2, 20.0]\n",
       "19    (16.2, 20.0]\n",
       "dtype: category\n",
       "Categories (5, interval[float64, right]): [(0.981, 4.8] < (4.8, 8.6] < (8.6, 12.4] < (12.4, 16.2] < (16.2, 20.0]]"
      ]
     },
     "execution_count": 52,
     "metadata": {},
     "output_type": "execute_result"
    }
   ],
   "source": [
    "pd.cut(my_series, 5)"
   ]
  },
  {
   "cell_type": "code",
   "execution_count": 57,
   "id": "e11d711f",
   "metadata": {},
   "outputs": [
    {
     "data": {
      "text/plain": [
       "0             NaN\n",
       "1             NaN\n",
       "2             NaN\n",
       "3             NaN\n",
       "4      (4.0, 9.0]\n",
       "5      (4.0, 9.0]\n",
       "6      (4.0, 9.0]\n",
       "7      (4.0, 9.0]\n",
       "8      (4.0, 9.0]\n",
       "9     (9.0, 18.0]\n",
       "10    (9.0, 18.0]\n",
       "11    (9.0, 18.0]\n",
       "12    (9.0, 18.0]\n",
       "13    (9.0, 18.0]\n",
       "14    (9.0, 18.0]\n",
       "15    (9.0, 18.0]\n",
       "16    (9.0, 18.0]\n",
       "17    (9.0, 18.0]\n",
       "18            NaN\n",
       "19            NaN\n",
       "dtype: category\n",
       "Categories (2, interval[int64, right]): [(4, 9] < (9, 18]]"
      ]
     },
     "execution_count": 57,
     "metadata": {},
     "output_type": "execute_result"
    }
   ],
   "source": [
    "pd.cut(my_series,[4,9,18])"
   ]
  },
  {
   "attachments": {},
   "cell_type": "markdown",
   "id": "e0e9a298",
   "metadata": {},
   "source": [
    "We can plot values from a series using the .plot() method.\n",
    "\n",
    "We can further alter the plot by calling .plot.hist(), for example.\n",
    "\n",
    "We can modify our plot by passing in arguments to the plotting method."
   ]
  },
  {
   "cell_type": "code",
   "execution_count": 59,
   "id": "9512301b",
   "metadata": {},
   "outputs": [
    {
     "data": {
      "text/plain": [
       "<Axes: >"
      ]
     },
     "execution_count": 59,
     "metadata": {},
     "output_type": "execute_result"
    },
    {
     "data": {
      "image/png": "[encoded data removed]",
      "text/plain": [
       "<Figure size 640x480 with 1 Axes>"
      ]
     },
     "metadata": {},
     "output_type": "display_data"
    }
   ],
   "source": [
    "my_series.plot()"
   ]
  },
  {
   "cell_type": "code",
   "execution_count": 60,
   "id": "1f2e74da",
   "metadata": {},
   "outputs": [
    {
     "ename": "TypeError",
     "evalue": "no numeric data to plot",
     "output_type": "error",
     "traceback": [
      "\u001b[0;31m---------------------------------------------------------------------------\u001b[0m",
      "\u001b[0;31mTypeError\u001b[0m                                 Traceback (most recent call last)",
      "Cell \u001b[0;32mIn[60], line 1\u001b[0m\n\u001b[0;32m----> 1\u001b[0m my_series\u001b[39m.\u001b[39;49mastype(\u001b[39m'\u001b[39;49m\u001b[39mstr\u001b[39;49m\u001b[39m'\u001b[39;49m)\u001b[39m.\u001b[39;49mplot()\n",
      "File \u001b[0;32m/usr/local/anaconda3/lib/python3.10/site-packages/pandas/plotting/_core.py:1000\u001b[0m, in \u001b[0;36mPlotAccessor.__call__\u001b[0;34m(self, *args, **kwargs)\u001b[0m\n\u001b[1;32m    997\u001b[0m             label_name \u001b[39m=\u001b[39m label_kw \u001b[39mor\u001b[39;00m data\u001b[39m.\u001b[39mcolumns\n\u001b[1;32m    998\u001b[0m             data\u001b[39m.\u001b[39mcolumns \u001b[39m=\u001b[39m label_name\n\u001b[0;32m-> 1000\u001b[0m \u001b[39mreturn\u001b[39;00m plot_backend\u001b[39m.\u001b[39;49mplot(data, kind\u001b[39m=\u001b[39;49mkind, \u001b[39m*\u001b[39;49m\u001b[39m*\u001b[39;49mkwargs)\n",
      "File \u001b[0;32m/usr/local/anaconda3/lib/python3.10/site-packages/pandas/plotting/_matplotlib/__init__.py:71\u001b[0m, in \u001b[0;36mplot\u001b[0;34m(data, kind, **kwargs)\u001b[0m\n\u001b[1;32m     69\u001b[0m         kwargs[\u001b[39m\"\u001b[39m\u001b[39max\u001b[39m\u001b[39m\"\u001b[39m] \u001b[39m=\u001b[39m \u001b[39mgetattr\u001b[39m(ax, \u001b[39m\"\u001b[39m\u001b[39mleft_ax\u001b[39m\u001b[39m\"\u001b[39m, ax)\n\u001b[1;32m     70\u001b[0m plot_obj \u001b[39m=\u001b[39m PLOT_CLASSES[kind](data, \u001b[39m*\u001b[39m\u001b[39m*\u001b[39mkwargs)\n\u001b[0;32m---> 71\u001b[0m plot_obj\u001b[39m.\u001b[39;49mgenerate()\n\u001b[1;32m     72\u001b[0m plot_obj\u001b[39m.\u001b[39mdraw()\n\u001b[1;32m     73\u001b[0m \u001b[39mreturn\u001b[39;00m plot_obj\u001b[39m.\u001b[39mresult\n",
      "File \u001b[0;32m/usr/local/anaconda3/lib/python3.10/site-packages/pandas/plotting/_matplotlib/core.py:450\u001b[0m, in \u001b[0;36mMPLPlot.generate\u001b[0;34m(self)\u001b[0m\n\u001b[1;32m    448\u001b[0m \u001b[39mdef\u001b[39;00m \u001b[39mgenerate\u001b[39m(\u001b[39mself\u001b[39m) \u001b[39m-\u001b[39m\u001b[39m>\u001b[39m \u001b[39mNone\u001b[39;00m:\n\u001b[1;32m    449\u001b[0m     \u001b[39mself\u001b[39m\u001b[39m.\u001b[39m_args_adjust()\n\u001b[0;32m--> 450\u001b[0m     \u001b[39mself\u001b[39;49m\u001b[39m.\u001b[39;49m_compute_plot_data()\n\u001b[1;32m    451\u001b[0m     \u001b[39mself\u001b[39m\u001b[39m.\u001b[39m_setup_subplots()\n\u001b[1;32m    452\u001b[0m     \u001b[39mself\u001b[39m\u001b[39m.\u001b[39m_make_plot()\n",
      "File \u001b[0;32m/usr/local/anaconda3/lib/python3.10/site-packages/pandas/plotting/_matplotlib/core.py:635\u001b[0m, in \u001b[0;36mMPLPlot._compute_plot_data\u001b[0;34m(self)\u001b[0m\n\u001b[1;32m    633\u001b[0m \u001b[39m# no non-numeric frames or series allowed\u001b[39;00m\n\u001b[1;32m    634\u001b[0m \u001b[39mif\u001b[39;00m is_empty:\n\u001b[0;32m--> 635\u001b[0m     \u001b[39mraise\u001b[39;00m \u001b[39mTypeError\u001b[39;00m(\u001b[39m\"\u001b[39m\u001b[39mno numeric data to plot\u001b[39m\u001b[39m\"\u001b[39m)\n\u001b[1;32m    637\u001b[0m \u001b[39mself\u001b[39m\u001b[39m.\u001b[39mdata \u001b[39m=\u001b[39m numeric_data\u001b[39m.\u001b[39mapply(\u001b[39mself\u001b[39m\u001b[39m.\u001b[39m_convert_to_ndarray)\n",
      "\u001b[0;31mTypeError\u001b[0m: no numeric data to plot"
     ]
    }
   ],
   "source": [
    "my_series.astype('str').plot()"
   ]
  },
  {
   "cell_type": "code",
   "execution_count": 70,
   "id": "495427e4",
   "metadata": {},
   "outputs": [
    {
     "data": {
      "text/plain": [
       "<Axes: title={'center': 'test'}>"
      ]
     },
     "execution_count": 70,
     "metadata": {},
     "output_type": "execute_result"
    },
    {
     "data": {
      "image/png": "[encoded data removed]",
      "text/plain": [
       "<Figure size 640x480 with 1 Axes>"
      ]
     },
     "metadata": {},
     "output_type": "display_data"
    }
   ],
   "source": [
    "mpg_t.str.startswith('a').value_counts().plot.bar(title = 'test')"
   ]
  },
  {
   "cell_type": "code",
   "execution_count": null,
   "id": "d5af09a0",
   "metadata": {},
   "outputs": [],
   "source": [
    "p"
   ]
  }
 ],
 "metadata": {
  "kernelspec": {
   "display_name": "Python 3 (ipykernel)",
   "language": "python",
   "name": "python3"
  },
  "language_info": {
   "codemirror_mode": {
    "name": "ipython",
    "version": 3
   },
   "file_extension": ".py",
   "mimetype": "text/x-python",
   "name": "python",
   "nbconvert_exporter": "python",
   "pygments_lexer": "ipython3",
   "version": "3.10.9"
  }
 },
 "nbformat": 4,
 "nbformat_minor": 5
}
